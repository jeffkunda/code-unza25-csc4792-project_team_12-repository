{
  "nbformat": 4,
  "nbformat_minor": 0,
  "metadata": {
    "colab": {
      "provenance": []
    },
    "kernelspec": {
      "name": "python3",
      "display_name": "Python 3"
    },
    "language_info": {
      "name": "python"
    }
  },
  "cells": [
    {
      "cell_type": "code",
      "execution_count": 6,
      "metadata": {
        "colab": {
          "base_uri": "https://localhost:8080/"
        },
        "id": "8XFvToOtXJuA",
        "outputId": "3ef165e6-8c01-43b2-ee69-8bbea44c2980"
      },
      "outputs": [
        {
          "output_type": "stream",
          "name": "stdout",
          "text": [
            "Drive already mounted at /content/drive; to attempt to forcibly remount, call drive.mount(\"/content/drive\", force_remount=True).\n"
          ]
        }
      ],
      "source": [
        "import os\n",
        "from google.colab import drive\n",
        "drive.mount('/content/drive')"
      ]
    },
    {
      "cell_type": "markdown",
      "source": [],
      "metadata": {
        "id": "KtlBswMAYn2o"
      }
    },
    {
      "cell_type": "markdown",
      "source": [
        "#1. Business Understanding\n",
        "##1.1 Background\n",
        "Legal and legislative documents are essential for promoting civic education, transparency, and the rule\n",
        "of law. However, the volume and complexity of these documents make it difficult for the public,\n",
        "researchers, and policymakers to easily locate and interpret relevant information.\n",
        "The DataLab Research Group at The University of Zambia is investigating the application of data mining\n",
        "techniques to improve the accessibility and organization of such documents.\n",
        "Two major publicly accessible sources of legal and legislative information in Zambia are:\n",
        "1. National Assembly of Zambia – Provides legislative bills, acts, and parliamentary debates.\n",
        "2. Zambia Legal Information Institute (ZambiaLII) – Provides court judgments, case summaries, and\n",
        "other legal references.\n",
        "\n",
        "##1.2 Business Objectives\n",
        "The main objective is to automatically classify court judgments into predefined categories based on their\n",
        "content. This will:\n",
        "* Enhance search ability of judgments for legal researchers and the general public.\n",
        "* Improve legal education by organizing case law for academic and training purposes.\n",
        "* Support legal practitioners in quickly retrieving precedents relevant to their cases.\n",
        "* Promote transparency and civic awareness by making legal decisions more accessible and\n",
        "understandable.\n",
        "\n",
        "##1.3 Business Success Criteria\n",
        "The success of the project will be measured by:\n",
        "1. Classification Accuracy – The automated system should correctly classify at least 80% of\n",
        "judgments into the correct category\n",
        "2. Usability – Legal researchers and students should be able to retrieve and filter judgments with\n",
        "minimal effort.\n",
        "\n",
        "##1.4 Data Mining Goals\n",
        "* Develop a text classification model that can process PDF judgments and assign them to\n",
        "categories such as criminal, civil, constitutional, etc.\n",
        "* Evaluate model performance using metrics such as accuracy and precision\n",
        "* Deploy the model in a way that allows non-technical users to query and retrieve categorized\n",
        "judgments.\n",
        "\n",
        "##1.5 Data Mining Success Criteria\n",
        "The data mining task will be considered successful if:\n",
        "* The classification model achieves at least 80% accuracy\n",
        "* The system can process new, unseen PDF judgments with high accuracy.\n",
        "\n"
      ],
      "metadata": {
        "id": "qKQYt4b-Ypy-"
      }
    },
    {
      "cell_type": "markdown",
      "source": [],
      "metadata": {
        "id": "ffaJ4Pu0YchX"
      }
    }
  ]
}