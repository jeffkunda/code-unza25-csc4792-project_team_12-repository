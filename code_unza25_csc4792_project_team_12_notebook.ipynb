{
  "nbformat": 4,
  "nbformat_minor": 0,
  "metadata": {
    "colab": {
      "provenance": [],
      "include_colab_link": true
    },
    "kernelspec": {
      "name": "python3",
      "display_name": "Python 3"
    },
    "language_info": {
      "name": "python"
    }
  },
  "cells": [
    {
      "cell_type": "markdown",
      "metadata": {
        "id": "view-in-github",
        "colab_type": "text"
      },
      "source": [
        "<a href=\"https://colab.research.google.com/github/jeffkunda/code-unza25-csc4792-project_team_12-repository/blob/main/code_unza25_csc4792_project_team_12_notebook.ipynb\" target=\"_parent\"><img src=\"https://colab.research.google.com/assets/colab-badge.svg\" alt=\"Open In Colab\"/></a>"
      ]
    },
    {
      "cell_type": "code",
      "execution_count": null,
      "metadata": {
        "id": "XjZoNg_5Hdae"
      },
      "outputs": [],
      "source": []
    },
    {
      "cell_type": "markdown",
      "source": [
        "#1.Business Understanding\n"
      ],
      "metadata": {
        "id": "cwtXyOapIeCN"
      }
    },
    {
      "cell_type": "markdown",
      "source": [
        "\n",
        "#1.1 Background\n",
        "Academic publications are essential for tracking research productivity, promoting collaboration, and enhancing institutional visibility. However, the challenge of author name ambiguity makes it difficult for universities to accurately identify which publications belong to their faculty members. This is because multiple authors may share the same or similar names, affiliations may be missing or outdated, and authors may change institutions over time.\n",
        "\n",
        "The University of Zambia (UNZA) needs a reliable and efficient way to identify publications authored by its faculty members across multiple academic databases. This will support accurate reporting of research output, strengthen the institution’s academic profile, and enable better decision-making in research management.\n",
        "\n",
        "The focus of this project is to develop a Data-driven classification model that can predict whether a given publication belongs to a UNZA faculty member. The system will analyze publication metadata such as author names, affiliations, email domains, co-author networks, and research topics to make this determination.\n",
        "\n"
      ],
      "metadata": {
        "id": "Ll2zp3FQUnXu"
      }
    },
    {
      "cell_type": "code",
      "source": [],
      "metadata": {
        "id": "1RkUSnXNCC2-"
      },
      "execution_count": null,
      "outputs": []
    },
    {
      "cell_type": "markdown",
      "source": [
        "## 1.2 Business Objectives\n",
        "The main objective is to automatically identify publications that belong to UNZA faculty members. This will:\n",
        "\n",
        "- Reduce the time and effort required for manual verification of research outputs.\n",
        "- Improve the completeness and accuracy of institutional publication records.\n",
        "- Enhance research visibility for UNZA by ensuring faculty work is properly credited.\n",
        "- Support strategic decision-making in research funding, performance evaluation, and collaborations.\n"
      ],
      "metadata": {
        "id": "sINUj7ddF-ny"
      }
    },
    {
      "cell_type": "markdown",
      "source": [
        "##1.3 Business Success Criteria\n",
        "The success of the project will be measured by:\n",
        "1.\tClassification Accuracy – The automated system should correctly identify at least 80% of publications as belonging or not belonging to UNZA faculty members.\n",
        "2.\tPractical Usability – The system should allow research administrators and other stakeholders to process and verify publications with minimal effort.\n",
        "3.\tInterpretability – The model should provide explanations for its predictions to build trust in the system’s decisions.\n"
      ],
      "metadata": {
        "id": "Xy1rY9kYFKtE"
      }
    },
    {
      "cell_type": "code",
      "source": [],
      "metadata": {
        "id": "JypQvEG9F4Xv"
      },
      "execution_count": null,
      "outputs": []
    }
  ]
}