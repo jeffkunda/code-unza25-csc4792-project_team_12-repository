{
  "nbformat": 4,
  "nbformat_minor": 0,
  "metadata": {
    "colab": {
      "provenance": [],
      "include_colab_link": true
    },
    "kernelspec": {
      "name": "python3",
      "display_name": "Python 3"
    },
    "language_info": {
      "name": "python"
    }
  },
  "cells": [
    {
      "cell_type": "markdown",
      "metadata": {
        "id": "view-in-github",
        "colab_type": "text"
      },
      "source": [
        "<a href=\"https://colab.research.google.com/github/jeffkunda/code-unza25-csc4792-project_team_12-repository/blob/main/code_unza25_csc4792_project_team_12_notebook.ipynb\" target=\"_parent\"><img src=\"https://colab.research.google.com/assets/colab-badge.svg\" alt=\"Open In Colab\"/></a>"
      ]
    },
    {
      "cell_type": "code",
      "execution_count": null,
      "metadata": {
        "id": "XjZoNg_5Hdae"
      },
      "outputs": [],
      "source": []
    },
    {
      "cell_type": "markdown",
      "source": [
        "# 1.Business Understanding\n"
      ],
      "metadata": {
        "id": "cwtXyOapIeCN"
      }
    },
    {
      "cell_type": "markdown",
      "source": [
        "\n",
        "##1.1 Background\n",
        "Legal and legislative documents are essential for promoting civic education, transparency, and the rule\n",
        "of law. However, the volume and complexity of these documents make it difficult for the public,\n",
        "researchers, and policymakers to easily locate and interpret relevant information.\n",
        "The DataLab Research Group at The University of Zambia is investigating the application of data mining\n",
        "techniques to improve the accessibility and organization of such documents.\n",
        "\n",
        "Two major publicly accessible sources of legal and legislative information in Zambia are:\n",
        "*  National Assembly of Zambia – Provides legislative bills, acts, and parliamentary debates.\n",
        "\n",
        "* Zambia Legal Information Institute (ZambiaLII) – Provides court judgments, case summaries, and\n",
        "other legal references.\n",
        "\n",
        "The focus of this project is on court judgments in PDF format. These judgments are written in natural\n",
        "language and cover various categories such as criminal, civil, family, constitutional, and commercial\n",
        "matters. Classifying these judgments automatically would greatly aid legal practitioners, students,\n",
        "journalists, and the public in finding and studying relevant cases.\n",
        "\n",
        "##1.2 Business Objectives\n",
        "The main objective is to automatically classify court judgments into predefined categories based on their\n",
        "content. This will:\n",
        " Enhance search ability of judgments for legal researchers and the general public.\n",
        "* Improve legal education by organizing case law for academic and training purposes.\n",
        "\n",
        "* Support legal practitioners in quickly retrieving precedents relevant to their cases.\n",
        "\n",
        "* Promote transparency and civic awareness by making legal decisions more accessible and\n",
        "understandable.\n",
        "\n",
        "##1.3 Business Success Criteria\n",
        "The success of the project will be measured by:\n",
        "1. Classification Accuracy – The automated system should correctly classify at least 80% of\n",
        "judgments into the correct category\n",
        "\n",
        "2. Usability – Legal researchers and students should be able to retrieve and filter judgments with\n",
        "minimal effort.\n",
        "\n",
        "##1.4 Data Mining Goals\n",
        "* Develop a text classification model that can process PDF judgments and assign them to\n",
        "categories such as criminal, civil, constitutional, etc.\n",
        "\n",
        "* Evaluate model performance using metrics such as accuracy and precision\n",
        "\n",
        "* Deploy the model in a way that allows non-technical users to query and retrieve categorized\n",
        "judgments.\n",
        "\n",
        "##1.5 Data Mining Success Criteria\n",
        "The data mining task will be considered successful if:\n",
        "* The classification model achieves at least 80% accuracy\n",
        "  \n",
        "* The system can process new, unseen PDF judgments with high accuracy."
      ],
      "metadata": {
        "id": "Ll2zp3FQUnXu"
      }
    },
    {
      "cell_type": "code",
      "source": [],
      "metadata": {
        "id": "XuwFYyJy_0tp"
      },
      "execution_count": null,
      "outputs": []
    }
  ]
}